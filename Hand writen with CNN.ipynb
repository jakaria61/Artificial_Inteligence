{
 "cells": [
  {
   "cell_type": "code",
   "execution_count": 3,
   "id": "97b4f22e",
   "metadata": {},
   "outputs": [
    {
     "name": "stdout",
     "output_type": "stream",
     "text": [
      "Epoch 1/10\n",
      "422/422 [==============================] - 30s 68ms/step - loss: 0.2505 - accuracy: 0.9260 - val_loss: 0.0886 - val_accuracy: 0.9758\n",
      "Epoch 2/10\n",
      "422/422 [==============================] - 26s 63ms/step - loss: 0.0749 - accuracy: 0.9776 - val_loss: 0.0562 - val_accuracy: 0.9857\n",
      "Epoch 3/10\n",
      "422/422 [==============================] - 27s 63ms/step - loss: 0.0488 - accuracy: 0.9858 - val_loss: 0.0544 - val_accuracy: 0.9845\n",
      "Epoch 4/10\n",
      "422/422 [==============================] - 27s 64ms/step - loss: 0.0370 - accuracy: 0.9888 - val_loss: 0.0500 - val_accuracy: 0.9873\n",
      "Epoch 5/10\n",
      "422/422 [==============================] - 27s 63ms/step - loss: 0.0278 - accuracy: 0.9918 - val_loss: 0.0512 - val_accuracy: 0.9848\n",
      "Epoch 6/10\n",
      "422/422 [==============================] - 27s 63ms/step - loss: 0.0207 - accuracy: 0.9938 - val_loss: 0.0486 - val_accuracy: 0.9880\n",
      "Epoch 7/10\n",
      "422/422 [==============================] - 27s 64ms/step - loss: 0.0175 - accuracy: 0.9947 - val_loss: 0.0491 - val_accuracy: 0.9877\n",
      "Epoch 8/10\n",
      "422/422 [==============================] - 27s 63ms/step - loss: 0.0118 - accuracy: 0.9967 - val_loss: 0.0535 - val_accuracy: 0.9885\n",
      "Epoch 9/10\n",
      "422/422 [==============================] - 27s 63ms/step - loss: 0.0094 - accuracy: 0.9973 - val_loss: 0.0580 - val_accuracy: 0.9877\n",
      "Epoch 10/10\n",
      "422/422 [==============================] - 28s 67ms/step - loss: 0.0069 - accuracy: 0.9981 - val_loss: 0.0601 - val_accuracy: 0.9885\n",
      "313/313 [==============================] - 2s 7ms/step - loss: 0.0464 - accuracy: 0.9860\n",
      "Test loss: 0.04644878953695297\n",
      "Test accuracy: 0.9860000014305115\n"
     ]
    },
    {
     "data": {
      "image/png": "[encoded data removed]",
      "text/plain": [
       "<Figure size 432x288 with 1 Axes>"
      ]
     },
     "metadata": {
      "needs_background": "light"
     },
     "output_type": "display_data"
    }
   ],
   "source": [
    "import numpy as np\n",
    "import tensorflow as tf\n",
    "from tensorflow import keras\n",
    "import matplotlib.pyplot as plt\n",
    "# Load the MNIST dataset\n",
    "(x_train, y_train), (x_test, y_test) = keras.datasets.mnist.load_data()\n",
    "# Preprocess the data\n",
    "x_train = np.expand_dims(x_train, axis=-1).astype('float32') / 255.0\n",
    "x_test = np.expand_dims(x_test, axis=-1).astype('float32') / 255.0\n",
    "y_train = keras.utils.to_categorical(y_train, 10)\n",
    "y_test = keras.utils.to_categorical(y_test, 10)\n",
    "# Define the CNN architecture\n",
    "model = keras.Sequential([\n",
    " keras.layers.Conv2D(32, kernel_size=(3, 3), activation='relu', input_shape=(28, 28, 1)),\n",
    " keras.layers.MaxPooling2D(pool_size=(2, 2)),\n",
    " keras.layers.Flatten(),\n",
    " keras.layers.Dense(128, activation='relu'),\n",
    " keras.layers.Dense(10, activation='softmax')\n",
    "])\n",
    "# Compile the model\n",
    "model.compile(optimizer='adam', loss='categorical_crossentropy', metrics=['accuracy'])\n",
    "# Train the model\n",
    "model.fit(x_train, y_train, batch_size=128, epochs=10, validation_split=0.1)\n",
    "# Evaluate the model on test data\n",
    "test_loss, test_acc = model.evaluate(x_test, y_test)\n",
    "print('Test loss:', test_loss)\n",
    "print('Test accuracy:', test_acc)\n",
    "\n",
    "digit = x_train[5]\n",
    "d_img = digit.reshape(28,28)\n",
    "plt.imshow(d_img,cmap='gray',interpolation = \"nearest\")\n",
    "plt.show()\n"
   ]
  },
  {
   "cell_type": "code",
   "execution_count": null,
   "id": "13e4ad85",
   "metadata": {},
   "outputs": [],
   "source": []
  }
 ],
 "metadata": {
  "kernelspec": {
   "display_name": "Python 3 (ipykernel)",
   "language": "python",
   "name": "python3"
  },
  "language_info": {
   "codemirror_mode": {
    "name": "ipython",
    "version": 3
   },
   "file_extension": ".py",
   "mimetype": "text/x-python",
   "name": "python",
   "nbconvert_exporter": "python",
   "pygments_lexer": "ipython3",
   "version": "3.9.12"
  }
 },
 "nbformat": 4,
 "nbformat_minor": 5
}
