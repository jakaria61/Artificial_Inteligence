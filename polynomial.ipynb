{
 "cells": [
  {
   "cell_type": "code",
   "execution_count": 3,
   "id": "7b4bc756",
   "metadata": {},
   "outputs": [
    {
     "name": "stdout",
     "output_type": "stream",
     "text": [
      "Epoch 1/10\n",
      "32/32 [==============================] - 1s 3ms/step - loss: 7.7714 - accuracy: 0.0000e+00\n",
      "Epoch 2/10\n",
      "32/32 [==============================] - 0s 3ms/step - loss: 0.1025 - accuracy: 0.0000e+00\n",
      "Epoch 3/10\n",
      "32/32 [==============================] - 0s 3ms/step - loss: 0.0044 - accuracy: 0.0000e+00\n",
      "Epoch 4/10\n",
      "32/32 [==============================] - 0s 3ms/step - loss: 0.0019 - accuracy: 0.0000e+00\n",
      "Epoch 5/10\n",
      "32/32 [==============================] - 0s 3ms/step - loss: 0.0012 - accuracy: 0.0000e+00\n",
      "Epoch 6/10\n",
      "32/32 [==============================] - 0s 3ms/step - loss: 6.1925e-04 - accuracy: 0.0000e+00\n",
      "Epoch 7/10\n",
      "32/32 [==============================] - 0s 3ms/step - loss: 2.0906e-04 - accuracy: 0.0000e+00\n",
      "Epoch 8/10\n",
      "32/32 [==============================] - 0s 3ms/step - loss: 2.6158e-05 - accuracy: 0.0000e+00\n",
      "Epoch 9/10\n",
      "32/32 [==============================] - 0s 3ms/step - loss: 7.4747e-06 - accuracy: 0.0000e+00\n",
      "Epoch 10/10\n",
      "32/32 [==============================] - 0s 3ms/step - loss: 3.9219e-06 - accuracy: 0.0000e+00\n",
      "1/1 [==============================] - 0s 116ms/step\n",
      "x : 0 =>  original y : 2 => pre y : -0.004966513719409704\n",
      "x : 1 =>  original y : 0 => pre y : 1.003418207168579\n",
      "x : -1 =>  original y : 18 => pre y : -0.9992253184318542\n",
      "x : 2 =>  original y : 30 => pre y : 2.0023317337036133\n",
      "x : -2 =>  original y : 30 => pre y : -1.999995231628418\n",
      "x : 3 =>  original y : 110 => pre y : 3.001777172088623\n",
      "x : -3 =>  original y : 20 => pre y : -2.9992752075195312\n"
     ]
    }
   ],
   "source": [
    "import numpy as np\n",
    "import tensorflow as tf\n",
    "\n",
    "model=tf.keras.Sequential()\n",
    "model.add(tf.keras.layers.Dense(128, input_shape=[1], activation='relu'))\n",
    "model.add(tf.keras.layers.Dense(128,activation='relu'))\n",
    "model.add(tf.keras.layers.Dense(128,activation='relu'))\n",
    "model.add(tf.keras.layers.Dense(1))\n",
    "model.compile(optimizer='adam', loss='mse', metrics=['accuracy'])\n",
    "x=np.random.uniform(-10,10,(1000,1))\n",
    "y=3*x**3+7*x**2-12*x+2\n",
    "model.fit(x,x,epochs=10,batch_size=32)\n",
    "inData=[0,1,-1,2,-2,3,-3]\n",
    "out=model.predict(inData)\n",
    "num=len(inData)\n",
    "for i in range(num):\n",
    "    \n",
    "  #orginal calculated y for data\n",
    "  orginal_out = 3 * inData[i] * inData[i] * inData[i] + 7 * inData[i] * inData[i] - 12 * inData[i] + 2\n",
    "\n",
    "  #compare predicted value of y with original for input data\n",
    "  print(f\"x : {inData[i]} =>  original y : {orginal_out} => pre y : {float(out[i])}\")"
   ]
  },
  {
   "cell_type": "code",
   "execution_count": null,
   "id": "d5f79aab",
   "metadata": {},
   "outputs": [],
   "source": []
  }
 ],
 "metadata": {
  "kernelspec": {
   "display_name": "Python 3 (ipykernel)",
   "language": "python",
   "name": "python3"
  },
  "language_info": {
   "codemirror_mode": {
    "name": "ipython",
    "version": 3
   },
   "file_extension": ".py",
   "mimetype": "text/x-python",
   "name": "python",
   "nbconvert_exporter": "python",
   "pygments_lexer": "ipython3",
   "version": "3.9.12"
  }
 },
 "nbformat": 4,
 "nbformat_minor": 5
}
