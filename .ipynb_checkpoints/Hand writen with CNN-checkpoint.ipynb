{
 "cells": [
  {
   "cell_type": "code",
   "execution_count": 2,
   "id": "958877a0",
   "metadata": {},
   "outputs": [
    {
     "name": "stdout",
     "output_type": "stream",
     "text": [
      "Epoch 1/10\n",
      "422/422 [==============================] - 29s 67ms/step - loss: 0.2439 - accuracy: 0.9277 - val_loss: 0.0824 - val_accuracy: 0.9798\n",
      "Epoch 2/10\n",
      "422/422 [==============================] - 28s 66ms/step - loss: 0.0774 - accuracy: 0.9770 - val_loss: 0.0633 - val_accuracy: 0.9825\n",
      "Epoch 3/10\n",
      "422/422 [==============================] - 31s 73ms/step - loss: 0.0501 - accuracy: 0.9848 - val_loss: 0.0551 - val_accuracy: 0.9850\n",
      "Epoch 4/10\n",
      "422/422 [==============================] - 27s 63ms/step - loss: 0.0361 - accuracy: 0.9888 - val_loss: 0.0506 - val_accuracy: 0.9868\n",
      "Epoch 5/10\n",
      "422/422 [==============================] - 28s 67ms/step - loss: 0.0265 - accuracy: 0.9918 - val_loss: 0.0464 - val_accuracy: 0.9867\n",
      "Epoch 6/10\n",
      "422/422 [==============================] - 27s 63ms/step - loss: 0.0201 - accuracy: 0.9940 - val_loss: 0.0507 - val_accuracy: 0.9883\n",
      "Epoch 7/10\n",
      "422/422 [==============================] - 27s 63ms/step - loss: 0.0147 - accuracy: 0.9953 - val_loss: 0.0561 - val_accuracy: 0.9843\n",
      "Epoch 8/10\n",
      "422/422 [==============================] - 28s 66ms/step - loss: 0.0114 - accuracy: 0.9966 - val_loss: 0.0625 - val_accuracy: 0.9867\n",
      "Epoch 9/10\n",
      "422/422 [==============================] - 28s 66ms/step - loss: 0.0095 - accuracy: 0.9970 - val_loss: 0.0565 - val_accuracy: 0.9883\n",
      "Epoch 10/10\n",
      "422/422 [==============================] - 27s 65ms/step - loss: 0.0071 - accuracy: 0.9979 - val_loss: 0.0534 - val_accuracy: 0.9883\n",
      "313/313 [==============================] - 2s 8ms/step - loss: 0.0426 - accuracy: 0.9862\n",
      "Test loss: 0.042584653943777084\n",
      "Test accuracy: 0.9861999750137329\n"
     ]
    },
    {
     "data": {
      "image/png": "[encoded data removed]",
      "text/plain": [
       "<Figure size 432x288 with 1 Axes>"
      ]
     },
     "metadata": {
      "needs_background": "light"
     },
     "output_type": "display_data"
    }
   ],
   "source": [
    "import numpy as np\n",
    "import tensorflow as tf\n",
    "from tensorflow import keras\n",
    "import matplotlib.pyplot as plt\n",
    "# Load the MNIST dataset\n",
    "(x_train, y_train), (x_test, y_test) = keras.datasets.mnist.load_data()\n",
    "# Preprocess the data\n",
    "x_train = np.expand_dims(x_train, axis=-1).astype('float32') / 255.0\n",
    "x_test = np.expand_dims(x_test, axis=-1).astype('float32') / 255.0\n",
    "y_train = keras.utils.to_categorical(y_train, 10)\n",
    "y_test = keras.utils.to_categorical(y_test, 10)\n",
    "# Define the CNN architecture\n",
    "model = keras.Sequential([\n",
    " keras.layers.Conv2D(32, kernel_size=(3, 3), activation='relu', input_shape=(28, 28, 1)),\n",
    " keras.layers.MaxPooling2D(pool_size=(2, 2)),\n",
    " keras.layers.Flatten(),\n",
    " keras.layers.Dense(128, activation='relu'),\n",
    " keras.layers.Dense(10, activation='softmax')\n",
    "])\n",
    "# Compile the model\n",
    "model.compile(optimizer='adam', loss='categorical_crossentropy', metrics=['accuracy'])\n",
    "# Train the model\n",
    "model.fit(x_train, y_train, batch_size=128, epochs=10, validation_split=0.1)\n",
    "# Evaluate the model on test data\n",
    "test_loss, test_acc = model.evaluate(x_test, y_test)\n",
    "print('Test loss:', test_loss)\n",
    "print('Test accuracy:', test_acc)\n",
    "\n",
    "digit = x_train[5]\n",
    "d_img = digit.reshape(28,28)\n",
    "plt.imshow(d_img,cmap='gray',interpolation = \"nearest\")\n",
    "plt.show()\n"
   ]
  },
  {
   "cell_type": "code",
   "execution_count": null,
   "id": "8134f8ab",
   "metadata": {},
   "outputs": [],
   "source": []
  }
 ],
 "metadata": {
  "kernelspec": {
   "display_name": "Python 3 (ipykernel)",
   "language": "python",
   "name": "python3"
  },
  "language_info": {
   "codemirror_mode": {
    "name": "ipython",
    "version": 3
   },
   "file_extension": ".py",
   "mimetype": "text/x-python",
   "name": "python",
   "nbconvert_exporter": "python",
   "pygments_lexer": "ipython3",
   "version": "3.9.12"
  }
 },
 "nbformat": 4,
 "nbformat_minor": 5
}
